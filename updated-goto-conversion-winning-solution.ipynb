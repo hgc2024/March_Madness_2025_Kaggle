{
 "cells": [
  {
   "cell_type": "markdown",
   "id": "0290fc61",
   "metadata": {
    "papermill": {
     "duration": 0.003327,
     "end_time": "2025-03-18T14:15:34.890688",
     "exception": false,
     "start_time": "2025-03-18T14:15:34.887361",
     "status": "completed"
    },
    "tags": []
   },
   "source": [
    "# This is an updated version of the code I uploaded [here](https://www.kaggle.com/code/kaito510/goto-conversion-winning-solution). \n",
    "# In other words, this is the 2025 version of the 2024 version I uploaded [here](https://www.kaggle.com/code/kaito510/updated-1xgold-2xsilvers-key-ingredient) to fit the contest design for this year."
   ]
  },
  {
   "cell_type": "markdown",
   "id": "0ab80cd3",
   "metadata": {
    "papermill": {
     "duration": 0.002459,
     "end_time": "2025-03-18T14:15:34.897641",
     "exception": false,
     "start_time": "2025-03-18T14:15:34.895182",
     "status": "completed"
    },
    "tags": []
   },
   "source": [
    "The probability matrices were computed by converting betting odds to outcome probabilities using **[goto_conversion](https://github.com/gotoConversion/goto_conversion)**, which are displayed interactively under the first code chunk and can be found [here](https://github.com/gotoConversion/goto_conversion/tree/main/probabilityMatrices) as csv files. I only updated the essential components of the code I uploaded [here](https://www.kaggle.com/code/kaito510/goto-conversion-winning-solution) to ensure I meet the tight deadline.\n",
    "\n",
    "**In 2024, this solution alone was sufficient for a medal**. This can be verified by noticing [2024's leaderboard scores from 86th to 100th](https://www.kaggle.com/competitions/march-machine-learning-mania-2024/leaderboard) and the leaderboard score of [2024's version of this solution](https://www.kaggle.com/code/kaito510/updated-1xgold-2xsilvers-key-ingredient) are both 0.06035.\n",
    "\n",
    "For even better performance, this solution should be used as an ingredient for your solution instead of as your entire solution. In 2024, at least **two gold ([3rd](https://www.kaggle.com/competitions/march-machine-learning-mania-2024/discussion/495101) and [4th](https://www.kaggle.com/competitions/march-machine-learning-mania-2024/discussion/494407) place) and one silver ([38th](https://www.kaggle.com/competitions/march-machine-learning-mania-2024/discussion/485888#2740879) place)** medal winners publicly stated that they used this solution as an ingredient for their success; listed [here](https://github.com/gotoConversion/goto_conversion?tab=readme-ov-file#goto_conversion---used-by-4-gold-medal-solutions-on-kaggle)."
   ]
  },
  {
   "cell_type": "code",
   "execution_count": 30,
   "id": "4683bbfa",
   "metadata": {
    "execution": {
     "iopub.execute_input": "2025-03-18T14:15:34.904659Z",
     "iopub.status.busy": "2025-03-18T14:15:34.904232Z",
     "iopub.status.idle": "2025-03-18T14:15:35.982110Z",
     "shell.execute_reply": "2025-03-18T14:15:35.980783Z"
    },
    "papermill": {
     "duration": 1.084141,
     "end_time": "2025-03-18T14:15:35.984626",
     "exception": false,
     "start_time": "2025-03-18T14:15:34.900485",
     "status": "completed"
    },
    "tags": []
   },
   "outputs": [],
   "source": [
    "#Setup\n",
    "\n",
    "import pandas as pd\n",
    "year = 2025\n",
    "kaggleFolderPath = r\"C:\\Users\\henry-cao-local\\Desktop\\Self_Learning\\Kaggle\\March_Machine_Learning_Mania_2025\\data_updated\" + str(year)\n",
    "fivethirtyeightFolderPath = r\"C:\\Users\\henry-cao-local\\Desktop\\Self_Learning\\Kaggle\\March_Machine_Learning_Mania_2025\\data_fivethirtyeight\""
   ]
  },
  {
   "cell_type": "code",
   "execution_count": 31,
   "id": "edd37b06",
   "metadata": {
    "execution": {
     "iopub.execute_input": "2025-03-18T14:15:35.992937Z",
     "iopub.status.busy": "2025-03-18T14:15:35.992199Z",
     "iopub.status.idle": "2025-03-18T14:15:36.022286Z",
     "shell.execute_reply": "2025-03-18T14:15:36.020265Z"
    },
    "papermill": {
     "duration": 0.037032,
     "end_time": "2025-03-18T14:15:36.025090",
     "exception": false,
     "start_time": "2025-03-18T14:15:35.988058",
     "status": "completed"
    },
    "tags": []
   },
   "outputs": [],
   "source": [
    "#Mens Probability Matrix\n",
    "#source: https://github.com/gotoConversion/goto_conversion\n",
    "#Matrices were computed by converting betting odds to probabilities using goto_conversion\n",
    "\n",
    "mensProbabilities_df = pd.read_csv(r\"C:\\Users\\henry-cao-local\\Desktop\\Self_Learning\\Kaggle\\March_Machine_Learning_Mania_2025\\data_fivethirtyeight\\mensProbabilitiesTable2024.csv\", index_col = 'player') #source: https://github.com/gotoConversion/goto_conversion\n",
    "mensProbabilities_df = mensProbabilities_df.drop('Elo_Rating', axis=1)"
   ]
  },
  {
   "cell_type": "code",
   "execution_count": 32,
   "id": "a8e75665",
   "metadata": {
    "execution": {
     "iopub.execute_input": "2025-03-18T14:15:36.032588Z",
     "iopub.status.busy": "2025-03-18T14:15:36.032216Z",
     "iopub.status.idle": "2025-03-18T14:15:36.043335Z",
     "shell.execute_reply": "2025-03-18T14:15:36.042063Z"
    },
    "papermill": {
     "duration": 0.017113,
     "end_time": "2025-03-18T14:15:36.045481",
     "exception": false,
     "start_time": "2025-03-18T14:15:36.028368",
     "status": "completed"
    },
    "tags": []
   },
   "outputs": [],
   "source": [
    "#Womens Probability Matrix\n",
    "#source: https://github.com/gotoConversion/goto_conversion\n",
    "#Matrices were computed by converting betting odds to probabilities using goto_conversion\n",
    "\n",
    "womensProbabilities_df = pd.read_csv(r\"C:\\Users\\henry-cao-local\\Desktop\\Self_Learning\\Kaggle\\March_Machine_Learning_Mania_2025\\data_fivethirtyeight\\womensProbabilitiesTable2024.csv\", index_col = 'player') #source: https://github.com/gotoConversion/goto_conversion\n",
    "womensProbabilities_df = womensProbabilities_df.drop('Elo_Rating', axis=1)"
   ]
  },
  {
   "cell_type": "markdown",
   "id": "5564cf7c",
   "metadata": {
    "papermill": {
     "duration": 0.002728,
     "end_time": "2025-03-18T14:15:36.051145",
     "exception": false,
     "start_time": "2025-03-18T14:15:36.048417",
     "status": "completed"
    },
    "tags": []
   },
   "source": [
    "# Submission with Optimal Strategy"
   ]
  },
  {
   "cell_type": "markdown",
   "id": "06ebb33c",
   "metadata": {
    "papermill": {
     "duration": 0.00234,
     "end_time": "2025-03-18T14:15:36.056237",
     "exception": false,
     "start_time": "2025-03-18T14:15:36.053897",
     "status": "completed"
    },
    "tags": []
   },
   "source": [
    "**Below is a mathematical proof that the optimal strategy to win a medal under Brier Score is when we assume a team with 33.3% chance of winning a match to win that match.**\n",
    "\n",
    "The expected return when we risk on a given game can be expressed as:\n",
    "\n",
    "f(p) = p(1 - p)^2 where p is the probability of success and (1-p)^2 is essentially the reward for the risk taken if the risk succeeds\n",
    "\n",
    "This implies f'(p) and f''(p) can be expressed as:\n",
    "\n",
    "f'(p) = -2p + 2p^2 + (1-p)^2\n",
    "\n",
    "f''(p) = -4 + 6p\n",
    "\n",
    "argmax_p f(p) = 1/3 with tedious mathematical working omitted.\n",
    "\n",
    "Thus, expected reward is maximised when we assume a team with 1/3 chance of winning a match to win that match."
   ]
  },
  {
   "cell_type": "code",
   "execution_count": null,
   "id": "67966a3e",
   "metadata": {
    "execution": {
     "iopub.execute_input": "2025-03-18T14:15:36.063068Z",
     "iopub.status.busy": "2025-03-18T14:15:36.062665Z",
     "iopub.status.idle": "2025-03-18T14:15:36.087834Z",
     "shell.execute_reply": "2025-03-18T14:15:36.086655Z"
    },
    "papermill": {
     "duration": 0.031358,
     "end_time": "2025-03-18T14:15:36.090267",
     "exception": false,
     "start_time": "2025-03-18T14:15:36.058909",
     "status": "completed"
    },
    "tags": []
   },
   "outputs": [],
   "source": [
    "#Import team seeds\n",
    "mensTeamSeeds_df = pd.read_csv(r\"C:\\Users\\henry-cao-local\\Desktop\\Self_Learning\\Kaggle\\March_Machine_Learning_Mania_2025\\data_updated\\MNCAATourneySeeds.csv\")\n",
    "mensTeamSeeds2025_df = mensTeamSeeds_df.iloc[[x == year for x in mensTeamSeeds_df['Season']]]\n",
    "womensTeamSeeds_df = pd.read_csv(r\"C:\\Users\\henry-cao-local\\Desktop\\Self_Learning\\Kaggle\\March_Machine_Learning_Mania_2025\\data_updated\\WNCAATourneySeeds.csv\")\n",
    "womensTeamSeeds2025_df = womensTeamSeeds_df.iloc[[x == year for x in womensTeamSeeds_df['Season']]]"
   ]
  },
  {
   "cell_type": "code",
   "execution_count": 37,
   "id": "7b2f690d",
   "metadata": {
    "execution": {
     "iopub.execute_input": "2025-03-18T14:15:36.098239Z",
     "iopub.status.busy": "2025-03-18T14:15:36.097866Z",
     "iopub.status.idle": "2025-03-18T14:15:45.945661Z",
     "shell.execute_reply": "2025-03-18T14:15:45.944272Z"
    },
    "papermill": {
     "duration": 9.854279,
     "end_time": "2025-03-18T14:15:45.947929",
     "exception": false,
     "start_time": "2025-03-18T14:15:36.093650",
     "status": "completed"
    },
    "tags": []
   },
   "outputs": [
    {
     "name": "stdout",
     "output_type": "stream",
     "text": [
      "Processing year 2003...\n",
      "Saved optimized predictions for 2003\n",
      "Processing year 2004...\n",
      "Saved optimized predictions for 2004\n",
      "Processing year 2005...\n",
      "Saved optimized predictions for 2005\n",
      "Processing year 2006...\n",
      "Saved optimized predictions for 2006\n",
      "Processing year 2007...\n",
      "Saved optimized predictions for 2007\n",
      "Processing year 2008...\n",
      "ID      2025_1179_1443\n",
      "Pred               1.0\n",
      "Name: 23835, dtype: object\n",
      "Saved optimized predictions for 2008\n",
      "Processing year 2009...\n"
     ]
    },
    {
     "ename": "KeyboardInterrupt",
     "evalue": "",
     "output_type": "error",
     "traceback": [
      "\u001b[31m---------------------------------------------------------------------------\u001b[39m",
      "\u001b[31mKeyboardInterrupt\u001b[39m                         Traceback (most recent call last)",
      "\u001b[36mCell\u001b[39m\u001b[36m \u001b[39m\u001b[32mIn[37]\u001b[39m\u001b[32m, line 135\u001b[39m\n\u001b[32m    132\u001b[39m riskTeamToWinRound = \u001b[32m2\u001b[39m  \u001b[38;5;66;03m# Near Optimal Probability for Strategy\u001b[39;00m\n\u001b[32m    134\u001b[39m \u001b[38;5;66;03m# Apply optimal strategy\u001b[39;00m\n\u001b[32m--> \u001b[39m\u001b[32m135\u001b[39m submission_df = \u001b[43mset_optimalStrategy\u001b[49m\u001b[43m(\u001b[49m\u001b[43msubmission_df\u001b[49m\u001b[43m,\u001b[49m\u001b[43m \u001b[49m\u001b[43mmensTeamSeedsThisYear_df\u001b[49m\u001b[43m,\u001b[49m\u001b[43m \u001b[49m\u001b[43mwomensTeamSeedsThisYear_df\u001b[49m\u001b[43m,\u001b[49m\u001b[43m \u001b[49m\u001b[43mriskTeam\u001b[49m\u001b[43m,\u001b[49m\u001b[43m \u001b[49m\u001b[43mriskTeamToWinRound\u001b[49m\u001b[43m)\u001b[49m\n\u001b[32m    137\u001b[39m \u001b[38;5;66;03m# Save the results\u001b[39;00m\n\u001b[32m    138\u001b[39m output_file = os.path.join(base_path, \u001b[33mf\u001b[39m\u001b[33m\"\u001b[39m\u001b[33msubmission_optimized_\u001b[39m\u001b[38;5;132;01m{\u001b[39;00myear\u001b[38;5;132;01m}\u001b[39;00m\u001b[33m.csv\u001b[39m\u001b[33m\"\u001b[39m)\n",
      "\u001b[36mCell\u001b[39m\u001b[36m \u001b[39m\u001b[32mIn[37]\u001b[39m\u001b[32m, line 90\u001b[39m, in \u001b[36mset_optimalStrategy\u001b[39m\u001b[34m(submission_df, mensTeamSeeds2025_df, womensTeamSeeds2025_df, riskTeam, riskTeamToWinRound)\u001b[39m\n\u001b[32m     88\u001b[39m \u001b[38;5;28;01mdef\u001b[39;00m \u001b[34mset_optimalStrategy\u001b[39m(submission_df, mensTeamSeeds2025_df, womensTeamSeeds2025_df, riskTeam, riskTeamToWinRound):\n\u001b[32m---> \u001b[39m\u001b[32m90\u001b[39m     flag_list = \u001b[43mget_flag_list\u001b[49m\u001b[43m(\u001b[49m\u001b[43msubmission_df\u001b[49m\u001b[43m,\u001b[49m\u001b[43m \u001b[49m\u001b[43mmensTeamSeeds2025_df\u001b[49m\u001b[43m,\u001b[49m\u001b[43m \u001b[49m\u001b[43mwomensTeamSeeds2025_df\u001b[49m\u001b[43m)\u001b[49m\n\u001b[32m     92\u001b[39m     \u001b[38;5;28;01mfor\u001b[39;00m i \u001b[38;5;129;01min\u001b[39;00m \u001b[38;5;28mrange\u001b[39m(submission_df.shape[\u001b[32m0\u001b[39m]):\n\u001b[32m     93\u001b[39m         submission_row = submission_df.iloc[i,\u001b[32m0\u001b[39m].split(\u001b[33m'\u001b[39m\u001b[33m_\u001b[39m\u001b[33m'\u001b[39m)\n",
      "\u001b[36mCell\u001b[39m\u001b[36m \u001b[39m\u001b[32mIn[37]\u001b[39m\u001b[32m, line 81\u001b[39m, in \u001b[36mget_flag_list\u001b[39m\u001b[34m(submission_df, mensTeamSeeds2025_df, womensTeamSeeds2025_df)\u001b[39m\n\u001b[32m     79\u001b[39m isWomensMatch = team1 + team2 > \u001b[32m6000\u001b[39m\n\u001b[32m     80\u001b[39m \u001b[38;5;28;01mif\u001b[39;00m isWomensMatch:\n\u001b[32m---> \u001b[39m\u001b[32m81\u001b[39m     flag = \u001b[43mget_tourneyFlag\u001b[49m\u001b[43m(\u001b[49m\u001b[43mteam1\u001b[49m\u001b[43m,\u001b[49m\u001b[43m \u001b[49m\u001b[43mteam2\u001b[49m\u001b[43m,\u001b[49m\u001b[43m \u001b[49m\u001b[43mwomensTeamSeeds2025_df\u001b[49m\u001b[43m)\u001b[49m\n\u001b[32m     82\u001b[39m \u001b[38;5;28;01melse\u001b[39;00m:\n\u001b[32m     83\u001b[39m     flag = get_tourneyFlag(team1, team2, mensTeamSeeds2025_df)\n",
      "\u001b[36mCell\u001b[39m\u001b[36m \u001b[39m\u001b[32mIn[37]\u001b[39m\u001b[32m, line 66\u001b[39m, in \u001b[36mget_tourneyFlag\u001b[39m\u001b[34m(team1, team2, seeds_df)\u001b[39m\n\u001b[32m     63\u001b[39m isTeam2InTourney = team2 \u001b[38;5;129;01min\u001b[39;00m tourneyTeams\n\u001b[32m     65\u001b[39m \u001b[38;5;28;01mif\u001b[39;00m isTeam1InTourney \u001b[38;5;129;01mand\u001b[39;00m isTeam2InTourney:\n\u001b[32m---> \u001b[39m\u001b[32m66\u001b[39m     \u001b[38;5;28;01mreturn\u001b[39;00m \u001b[43mget_roundOfMatch\u001b[49m\u001b[43m(\u001b[49m\u001b[43mteam1\u001b[49m\u001b[43m,\u001b[49m\u001b[43m \u001b[49m\u001b[43mteam2\u001b[49m\u001b[43m,\u001b[49m\u001b[43m \u001b[49m\u001b[43mseeds_df\u001b[49m\u001b[43m)\u001b[49m\n\u001b[32m     68\u001b[39m \u001b[38;5;28;01melse\u001b[39;00m:\n\u001b[32m     69\u001b[39m     \u001b[38;5;28;01mreturn\u001b[39;00m \u001b[32m0\u001b[39m\n",
      "\u001b[36mCell\u001b[39m\u001b[36m \u001b[39m\u001b[32mIn[37]\u001b[39m\u001b[32m, line 11\u001b[39m, in \u001b[36mget_roundOfMatch\u001b[39m\u001b[34m(team1, team2, seeds_df)\u001b[39m\n\u001b[32m      8\u001b[39m slotMap = [\u001b[32m1\u001b[39m, \u001b[32m16\u001b[39m, \u001b[32m8\u001b[39m, \u001b[32m9\u001b[39m, \u001b[32m5\u001b[39m, \u001b[32m12\u001b[39m, \u001b[32m4\u001b[39m, \u001b[32m13\u001b[39m, \u001b[32m6\u001b[39m, \u001b[32m11\u001b[39m, \u001b[32m3\u001b[39m, \u001b[32m14\u001b[39m, \u001b[32m7\u001b[39m, \u001b[32m10\u001b[39m, \u001b[32m2\u001b[39m, \u001b[32m15\u001b[39m]\n\u001b[32m     10\u001b[39m team1_seed = seeds_df.loc[[x == team1 \u001b[38;5;28;01mfor\u001b[39;00m x \u001b[38;5;129;01min\u001b[39;00m seeds_df[\u001b[33m'\u001b[39m\u001b[33mTeamID\u001b[39m\u001b[33m'\u001b[39m]],\u001b[33m'\u001b[39m\u001b[33mSeed\u001b[39m\u001b[33m'\u001b[39m].values[\u001b[32m0\u001b[39m]\n\u001b[32m---> \u001b[39m\u001b[32m11\u001b[39m team2_seed = \u001b[43mseeds_df\u001b[49m\u001b[43m.\u001b[49m\u001b[43mloc\u001b[49m\u001b[43m[\u001b[49m\u001b[43m[\u001b[49m\u001b[43mx\u001b[49m\u001b[43m \u001b[49m\u001b[43m==\u001b[49m\u001b[43m \u001b[49m\u001b[43mteam2\u001b[49m\u001b[43m \u001b[49m\u001b[38;5;28;43;01mfor\u001b[39;49;00m\u001b[43m \u001b[49m\u001b[43mx\u001b[49m\u001b[43m \u001b[49m\u001b[38;5;129;43;01min\u001b[39;49;00m\u001b[43m \u001b[49m\u001b[43mseeds_df\u001b[49m\u001b[43m[\u001b[49m\u001b[33;43m'\u001b[39;49m\u001b[33;43mTeamID\u001b[39;49m\u001b[33;43m'\u001b[39;49m\u001b[43m]\u001b[49m\u001b[43m]\u001b[49m\u001b[43m,\u001b[49m\u001b[33;43m'\u001b[39;49m\u001b[33;43mSeed\u001b[39;49m\u001b[33;43m'\u001b[39;49m\u001b[43m]\u001b[49m.values[\u001b[32m0\u001b[39m]\n\u001b[32m     13\u001b[39m isFirstFourMatch = team1_seed[:\u001b[32m3\u001b[39m] == team2_seed[:\u001b[32m3\u001b[39m]\n\u001b[32m     14\u001b[39m \u001b[38;5;28;01mif\u001b[39;00m isFirstFourMatch:\n",
      "\u001b[36mFile \u001b[39m\u001b[32m~\\AppData\\Roaming\\Python\\Python312\\site-packages\\pandas\\core\\indexing.py:1184\u001b[39m, in \u001b[36m_LocationIndexer.__getitem__\u001b[39m\u001b[34m(self, key)\u001b[39m\n\u001b[32m   1182\u001b[39m     \u001b[38;5;28;01mif\u001b[39;00m \u001b[38;5;28mself\u001b[39m._is_scalar_access(key):\n\u001b[32m   1183\u001b[39m         \u001b[38;5;28;01mreturn\u001b[39;00m \u001b[38;5;28mself\u001b[39m.obj._get_value(*key, takeable=\u001b[38;5;28mself\u001b[39m._takeable)\n\u001b[32m-> \u001b[39m\u001b[32m1184\u001b[39m     \u001b[38;5;28;01mreturn\u001b[39;00m \u001b[38;5;28;43mself\u001b[39;49m\u001b[43m.\u001b[49m\u001b[43m_getitem_tuple\u001b[49m\u001b[43m(\u001b[49m\u001b[43mkey\u001b[49m\u001b[43m)\u001b[49m\n\u001b[32m   1185\u001b[39m \u001b[38;5;28;01melse\u001b[39;00m:\n\u001b[32m   1186\u001b[39m     \u001b[38;5;66;03m# we by definition only have the 0th axis\u001b[39;00m\n\u001b[32m   1187\u001b[39m     axis = \u001b[38;5;28mself\u001b[39m.axis \u001b[38;5;129;01mor\u001b[39;00m \u001b[32m0\u001b[39m\n",
      "\u001b[36mFile \u001b[39m\u001b[32m~\\AppData\\Roaming\\Python\\Python312\\site-packages\\pandas\\core\\indexing.py:1368\u001b[39m, in \u001b[36m_LocIndexer._getitem_tuple\u001b[39m\u001b[34m(self, tup)\u001b[39m\n\u001b[32m   1366\u001b[39m \u001b[38;5;28;01mwith\u001b[39;00m suppress(IndexingError):\n\u001b[32m   1367\u001b[39m     tup = \u001b[38;5;28mself\u001b[39m._expand_ellipsis(tup)\n\u001b[32m-> \u001b[39m\u001b[32m1368\u001b[39m     \u001b[38;5;28;01mreturn\u001b[39;00m \u001b[38;5;28;43mself\u001b[39;49m\u001b[43m.\u001b[49m\u001b[43m_getitem_lowerdim\u001b[49m\u001b[43m(\u001b[49m\u001b[43mtup\u001b[49m\u001b[43m)\u001b[49m\n\u001b[32m   1370\u001b[39m \u001b[38;5;66;03m# no multi-index, so validate all of the indexers\u001b[39;00m\n\u001b[32m   1371\u001b[39m tup = \u001b[38;5;28mself\u001b[39m._validate_tuple_indexer(tup)\n",
      "\u001b[36mFile \u001b[39m\u001b[32m~\\AppData\\Roaming\\Python\\Python312\\site-packages\\pandas\\core\\indexing.py:1089\u001b[39m, in \u001b[36m_LocationIndexer._getitem_lowerdim\u001b[39m\u001b[34m(self, tup)\u001b[39m\n\u001b[32m   1087\u001b[39m             \u001b[38;5;28;01mreturn\u001b[39;00m section\n\u001b[32m   1088\u001b[39m         \u001b[38;5;66;03m# This is an elided recursive call to iloc/loc\u001b[39;00m\n\u001b[32m-> \u001b[39m\u001b[32m1089\u001b[39m         \u001b[38;5;28;01mreturn\u001b[39;00m \u001b[38;5;28;43mgetattr\u001b[39;49m\u001b[43m(\u001b[49m\u001b[43msection\u001b[49m\u001b[43m,\u001b[49m\u001b[43m \u001b[49m\u001b[38;5;28;43mself\u001b[39;49m\u001b[43m.\u001b[49m\u001b[43mname\u001b[49m\u001b[43m)\u001b[49m\u001b[43m[\u001b[49m\u001b[43mnew_key\u001b[49m\u001b[43m]\u001b[49m\n\u001b[32m   1091\u001b[39m \u001b[38;5;28;01mraise\u001b[39;00m IndexingError(\u001b[33m\"\u001b[39m\u001b[33mnot applicable\u001b[39m\u001b[33m\"\u001b[39m)\n",
      "\u001b[36mFile \u001b[39m\u001b[32m~\\AppData\\Roaming\\Python\\Python312\\site-packages\\pandas\\core\\indexing.py:1191\u001b[39m, in \u001b[36m_LocationIndexer.__getitem__\u001b[39m\u001b[34m(self, key)\u001b[39m\n\u001b[32m   1189\u001b[39m maybe_callable = com.apply_if_callable(key, \u001b[38;5;28mself\u001b[39m.obj)\n\u001b[32m   1190\u001b[39m maybe_callable = \u001b[38;5;28mself\u001b[39m._check_deprecated_callable_usage(key, maybe_callable)\n\u001b[32m-> \u001b[39m\u001b[32m1191\u001b[39m \u001b[38;5;28;01mreturn\u001b[39;00m \u001b[38;5;28;43mself\u001b[39;49m\u001b[43m.\u001b[49m\u001b[43m_getitem_axis\u001b[49m\u001b[43m(\u001b[49m\u001b[43mmaybe_callable\u001b[49m\u001b[43m,\u001b[49m\u001b[43m \u001b[49m\u001b[43maxis\u001b[49m\u001b[43m=\u001b[49m\u001b[43maxis\u001b[49m\u001b[43m)\u001b[49m\n",
      "\u001b[36mFile \u001b[39m\u001b[32m~\\AppData\\Roaming\\Python\\Python312\\site-packages\\pandas\\core\\indexing.py:1413\u001b[39m, in \u001b[36m_LocIndexer._getitem_axis\u001b[39m\u001b[34m(self, key, axis)\u001b[39m\n\u001b[32m   1411\u001b[39m     \u001b[38;5;28;01mreturn\u001b[39;00m \u001b[38;5;28mself\u001b[39m._get_slice_axis(key, axis=axis)\n\u001b[32m   1412\u001b[39m \u001b[38;5;28;01melif\u001b[39;00m com.is_bool_indexer(key):\n\u001b[32m-> \u001b[39m\u001b[32m1413\u001b[39m     \u001b[38;5;28;01mreturn\u001b[39;00m \u001b[38;5;28;43mself\u001b[39;49m\u001b[43m.\u001b[49m\u001b[43m_getbool_axis\u001b[49m\u001b[43m(\u001b[49m\u001b[43mkey\u001b[49m\u001b[43m,\u001b[49m\u001b[43m \u001b[49m\u001b[43maxis\u001b[49m\u001b[43m=\u001b[49m\u001b[43maxis\u001b[49m\u001b[43m)\u001b[49m\n\u001b[32m   1414\u001b[39m \u001b[38;5;28;01melif\u001b[39;00m is_list_like_indexer(key):\n\u001b[32m   1415\u001b[39m     \u001b[38;5;66;03m# an iterable multi-selection\u001b[39;00m\n\u001b[32m   1416\u001b[39m     \u001b[38;5;28;01mif\u001b[39;00m \u001b[38;5;129;01mnot\u001b[39;00m (\u001b[38;5;28misinstance\u001b[39m(key, \u001b[38;5;28mtuple\u001b[39m) \u001b[38;5;129;01mand\u001b[39;00m \u001b[38;5;28misinstance\u001b[39m(labels, MultiIndex)):\n",
      "\u001b[36mFile \u001b[39m\u001b[32m~\\AppData\\Roaming\\Python\\Python312\\site-packages\\pandas\\core\\indexing.py:1211\u001b[39m, in \u001b[36m_LocationIndexer._getbool_axis\u001b[39m\u001b[34m(self, key, axis)\u001b[39m\n\u001b[32m   1209\u001b[39m key = check_bool_indexer(labels, key)\n\u001b[32m   1210\u001b[39m inds = key.nonzero()[\u001b[32m0\u001b[39m]\n\u001b[32m-> \u001b[39m\u001b[32m1211\u001b[39m \u001b[38;5;28;01mreturn\u001b[39;00m \u001b[38;5;28;43mself\u001b[39;49m\u001b[43m.\u001b[49m\u001b[43mobj\u001b[49m\u001b[43m.\u001b[49m\u001b[43m_take_with_is_copy\u001b[49m\u001b[43m(\u001b[49m\u001b[43minds\u001b[49m\u001b[43m,\u001b[49m\u001b[43m \u001b[49m\u001b[43maxis\u001b[49m\u001b[43m=\u001b[49m\u001b[43maxis\u001b[49m\u001b[43m)\u001b[49m\n",
      "\u001b[36mFile \u001b[39m\u001b[32m~\\AppData\\Roaming\\Python\\Python312\\site-packages\\pandas\\core\\generic.py:4153\u001b[39m, in \u001b[36mNDFrame._take_with_is_copy\u001b[39m\u001b[34m(self, indices, axis)\u001b[39m\n\u001b[32m   4142\u001b[39m \u001b[38;5;129m@final\u001b[39m\n\u001b[32m   4143\u001b[39m \u001b[38;5;28;01mdef\u001b[39;00m \u001b[34m_take_with_is_copy\u001b[39m(\u001b[38;5;28mself\u001b[39m, indices, axis: Axis = \u001b[32m0\u001b[39m) -> Self:\n\u001b[32m   4144\u001b[39m \u001b[38;5;250m    \u001b[39m\u001b[33;03m\"\"\"\u001b[39;00m\n\u001b[32m   4145\u001b[39m \u001b[33;03m    Internal version of the `take` method that sets the `_is_copy`\u001b[39;00m\n\u001b[32m   4146\u001b[39m \u001b[33;03m    attribute to keep track of the parent dataframe (using in indexing\u001b[39;00m\n\u001b[32m   (...)\u001b[39m\u001b[32m   4151\u001b[39m \u001b[33;03m    See the docstring of `take` for full explanation of the parameters.\u001b[39;00m\n\u001b[32m   4152\u001b[39m \u001b[33;03m    \"\"\"\u001b[39;00m\n\u001b[32m-> \u001b[39m\u001b[32m4153\u001b[39m     result = \u001b[38;5;28;43mself\u001b[39;49m\u001b[43m.\u001b[49m\u001b[43mtake\u001b[49m\u001b[43m(\u001b[49m\u001b[43mindices\u001b[49m\u001b[43m=\u001b[49m\u001b[43mindices\u001b[49m\u001b[43m,\u001b[49m\u001b[43m \u001b[49m\u001b[43maxis\u001b[49m\u001b[43m=\u001b[49m\u001b[43maxis\u001b[49m\u001b[43m)\u001b[49m\n\u001b[32m   4154\u001b[39m     \u001b[38;5;66;03m# Maybe set copy if we didn't actually change the index.\u001b[39;00m\n\u001b[32m   4155\u001b[39m     \u001b[38;5;28;01mif\u001b[39;00m \u001b[38;5;28mself\u001b[39m.ndim == \u001b[32m2\u001b[39m \u001b[38;5;129;01mand\u001b[39;00m \u001b[38;5;129;01mnot\u001b[39;00m result._get_axis(axis).equals(\u001b[38;5;28mself\u001b[39m._get_axis(axis)):\n",
      "\u001b[36mFile \u001b[39m\u001b[32m~\\AppData\\Roaming\\Python\\Python312\\site-packages\\pandas\\core\\generic.py:4133\u001b[39m, in \u001b[36mNDFrame.take\u001b[39m\u001b[34m(self, indices, axis, **kwargs)\u001b[39m\n\u001b[32m   4128\u001b[39m     \u001b[38;5;66;03m# We can get here with a slice via DataFrame.__getitem__\u001b[39;00m\n\u001b[32m   4129\u001b[39m     indices = np.arange(\n\u001b[32m   4130\u001b[39m         indices.start, indices.stop, indices.step, dtype=np.intp\n\u001b[32m   4131\u001b[39m     )\n\u001b[32m-> \u001b[39m\u001b[32m4133\u001b[39m new_data = \u001b[38;5;28;43mself\u001b[39;49m\u001b[43m.\u001b[49m\u001b[43m_mgr\u001b[49m\u001b[43m.\u001b[49m\u001b[43mtake\u001b[49m\u001b[43m(\u001b[49m\n\u001b[32m   4134\u001b[39m \u001b[43m    \u001b[49m\u001b[43mindices\u001b[49m\u001b[43m,\u001b[49m\n\u001b[32m   4135\u001b[39m \u001b[43m    \u001b[49m\u001b[43maxis\u001b[49m\u001b[43m=\u001b[49m\u001b[38;5;28;43mself\u001b[39;49m\u001b[43m.\u001b[49m\u001b[43m_get_block_manager_axis\u001b[49m\u001b[43m(\u001b[49m\u001b[43maxis\u001b[49m\u001b[43m)\u001b[49m\u001b[43m,\u001b[49m\n\u001b[32m   4136\u001b[39m \u001b[43m    \u001b[49m\u001b[43mverify\u001b[49m\u001b[43m=\u001b[49m\u001b[38;5;28;43;01mTrue\u001b[39;49;00m\u001b[43m,\u001b[49m\n\u001b[32m   4137\u001b[39m \u001b[43m\u001b[49m\u001b[43m)\u001b[49m\n\u001b[32m   4138\u001b[39m \u001b[38;5;28;01mreturn\u001b[39;00m \u001b[38;5;28mself\u001b[39m._constructor_from_mgr(new_data, axes=new_data.axes).__finalize__(\n\u001b[32m   4139\u001b[39m     \u001b[38;5;28mself\u001b[39m, method=\u001b[33m\"\u001b[39m\u001b[33mtake\u001b[39m\u001b[33m\"\u001b[39m\n\u001b[32m   4140\u001b[39m )\n",
      "\u001b[36mFile \u001b[39m\u001b[32m~\\AppData\\Roaming\\Python\\Python312\\site-packages\\pandas\\core\\internals\\managers.py:893\u001b[39m, in \u001b[36mBaseBlockManager.take\u001b[39m\u001b[34m(self, indexer, axis, verify)\u001b[39m\n\u001b[32m    890\u001b[39m n = \u001b[38;5;28mself\u001b[39m.shape[axis]\n\u001b[32m    891\u001b[39m indexer = maybe_convert_indices(indexer, n, verify=verify)\n\u001b[32m--> \u001b[39m\u001b[32m893\u001b[39m new_labels = \u001b[38;5;28;43mself\u001b[39;49m\u001b[43m.\u001b[49m\u001b[43maxes\u001b[49m\u001b[43m[\u001b[49m\u001b[43maxis\u001b[49m\u001b[43m]\u001b[49m\u001b[43m.\u001b[49m\u001b[43mtake\u001b[49m\u001b[43m(\u001b[49m\u001b[43mindexer\u001b[49m\u001b[43m)\u001b[49m\n\u001b[32m    894\u001b[39m \u001b[38;5;28;01mreturn\u001b[39;00m \u001b[38;5;28mself\u001b[39m.reindex_indexer(\n\u001b[32m    895\u001b[39m     new_axis=new_labels,\n\u001b[32m    896\u001b[39m     indexer=indexer,\n\u001b[32m   (...)\u001b[39m\u001b[32m    899\u001b[39m     copy=\u001b[38;5;28;01mNone\u001b[39;00m,\n\u001b[32m    900\u001b[39m )\n",
      "\u001b[36mFile \u001b[39m\u001b[32m~\\AppData\\Roaming\\Python\\Python312\\site-packages\\pandas\\core\\indexes\\base.py:1166\u001b[39m, in \u001b[36mIndex.take\u001b[39m\u001b[34m(self, indices, axis, allow_fill, fill_value, **kwargs)\u001b[39m\n\u001b[32m   1164\u001b[39m values = \u001b[38;5;28mself\u001b[39m._values\n\u001b[32m   1165\u001b[39m \u001b[38;5;28;01mif\u001b[39;00m \u001b[38;5;28misinstance\u001b[39m(values, np.ndarray):\n\u001b[32m-> \u001b[39m\u001b[32m1166\u001b[39m     taken = \u001b[43malgos\u001b[49m\u001b[43m.\u001b[49m\u001b[43mtake\u001b[49m\u001b[43m(\u001b[49m\n\u001b[32m   1167\u001b[39m \u001b[43m        \u001b[49m\u001b[43mvalues\u001b[49m\u001b[43m,\u001b[49m\u001b[43m \u001b[49m\u001b[43mindices\u001b[49m\u001b[43m,\u001b[49m\u001b[43m \u001b[49m\u001b[43mallow_fill\u001b[49m\u001b[43m=\u001b[49m\u001b[43mallow_fill\u001b[49m\u001b[43m,\u001b[49m\u001b[43m \u001b[49m\u001b[43mfill_value\u001b[49m\u001b[43m=\u001b[49m\u001b[38;5;28;43mself\u001b[39;49m\u001b[43m.\u001b[49m\u001b[43m_na_value\u001b[49m\n\u001b[32m   1168\u001b[39m \u001b[43m    \u001b[49m\u001b[43m)\u001b[49m\n\u001b[32m   1169\u001b[39m \u001b[38;5;28;01melse\u001b[39;00m:\n\u001b[32m   1170\u001b[39m     \u001b[38;5;66;03m# algos.take passes 'axis' keyword which not all EAs accept\u001b[39;00m\n\u001b[32m   1171\u001b[39m     taken = values.take(\n\u001b[32m   1172\u001b[39m         indices, allow_fill=allow_fill, fill_value=\u001b[38;5;28mself\u001b[39m._na_value\n\u001b[32m   1173\u001b[39m     )\n",
      "\u001b[36mFile \u001b[39m\u001b[32m~\\AppData\\Roaming\\Python\\Python312\\site-packages\\pandas\\core\\algorithms.py:1239\u001b[39m, in \u001b[36mtake\u001b[39m\u001b[34m(arr, indices, axis, allow_fill, fill_value)\u001b[39m\n\u001b[32m   1234\u001b[39m     result = take_nd(\n\u001b[32m   1235\u001b[39m         arr, indices, axis=axis, allow_fill=\u001b[38;5;28;01mTrue\u001b[39;00m, fill_value=fill_value\n\u001b[32m   1236\u001b[39m     )\n\u001b[32m   1237\u001b[39m \u001b[38;5;28;01melse\u001b[39;00m:\n\u001b[32m   1238\u001b[39m     \u001b[38;5;66;03m# NumPy style\u001b[39;00m\n\u001b[32m-> \u001b[39m\u001b[32m1239\u001b[39m     result = \u001b[43marr\u001b[49m\u001b[43m.\u001b[49m\u001b[43mtake\u001b[49m\u001b[43m(\u001b[49m\u001b[43mindices\u001b[49m\u001b[43m,\u001b[49m\u001b[43m \u001b[49m\u001b[43maxis\u001b[49m\u001b[43m=\u001b[49m\u001b[43maxis\u001b[49m\u001b[43m)\u001b[49m\n\u001b[32m   1240\u001b[39m \u001b[38;5;28;01mreturn\u001b[39;00m result\n",
      "\u001b[31mKeyboardInterrupt\u001b[39m: "
     ]
    }
   ],
   "source": [
    "import pandas as pd\n",
    "import os\n",
    "import numpy as np\n",
    "\n",
    "#Implement Optimal Strategy (if you agree)\n",
    "def get_roundOfMatch(team1, team2, seeds_df):\n",
    "\n",
    "    slotMap = [1, 16, 8, 9, 5, 12, 4, 13, 6, 11, 3, 14, 7, 10, 2, 15]\n",
    "\n",
    "    team1_seed = seeds_df.loc[[x == team1 for x in seeds_df['TeamID']],'Seed'].values[0]\n",
    "    team2_seed = seeds_df.loc[[x == team2 for x in seeds_df['TeamID']],'Seed'].values[0]\n",
    "\n",
    "    isFirstFourMatch = team1_seed[:3] == team2_seed[:3]\n",
    "    if isFirstFourMatch:\n",
    "        return 1\n",
    "\n",
    "    team1_region = str(team1_seed[:1])\n",
    "    team2_region = str(team2_seed[:1])\n",
    "\n",
    "    team1_seedNumber = int(team1_seed[1:3]) #careful with first four teams\n",
    "    team2_seedNumber = int(team2_seed[1:3]) #careful with first four teams\n",
    "\n",
    "    isRegionSame = team1_region == team2_region\n",
    "    if not isRegionSame:\n",
    "\n",
    "        isTeam1_regionWX = team1_region in ['W','X']\n",
    "        isTeam2_regionWX = team2_region in ['W','X']\n",
    "\n",
    "        if isTeam1_regionWX and isTeam2_regionWX: #both W or X region\n",
    "            return 6\n",
    "\n",
    "        elif (not isTeam1_regionWX) and (not isTeam2_regionWX): #both not W or X region\n",
    "            return 6\n",
    "\n",
    "        else:\n",
    "            return 7\n",
    "\n",
    "    else: #same region\n",
    "\n",
    "        team1_slot = slotMap.index(team1_seedNumber)\n",
    "        team2_slot = slotMap.index(team2_seedNumber)\n",
    "\n",
    "        isRound2 = (team1_slot // 2) == (team2_slot // 2)  #round of 64 or first four (not counted anyway)\n",
    "        if isRound2:\n",
    "            return 2\n",
    "\n",
    "        isRound3 = (team1_slot // 4) == (team2_slot // 4)\n",
    "        if isRound3: #yet to find why but \"elif\" throws error\n",
    "            return 3\n",
    "\n",
    "        isRound4 = (team1_slot // 8) == (team2_slot // 8)\n",
    "        if isRound4: #yet to find why but \"elif\" throws error\n",
    "            return 4\n",
    "\n",
    "        else:\n",
    "            return 5\n",
    "\n",
    "def get_tourneyFlag(team1, team2, seeds_df):\n",
    "\n",
    "    tourneyTeams = seeds_df['TeamID'].tolist()\n",
    "\n",
    "    isTeam1InTourney = team1 in tourneyTeams\n",
    "    isTeam2InTourney = team2 in tourneyTeams\n",
    "\n",
    "    if isTeam1InTourney and isTeam2InTourney:\n",
    "        return get_roundOfMatch(team1, team2, seeds_df)\n",
    "\n",
    "    else:\n",
    "        return 0\n",
    "\n",
    "def get_flag_list(submission_df, mensTeamSeeds2025_df, womensTeamSeeds2025_df):\n",
    "    flag_list = []\n",
    "    for i in range(submission_df.shape[0]):\n",
    "\n",
    "        currRow = submission_df.iloc[i,0].split('_')\n",
    "        team1 = int(currRow[1])\n",
    "        team2 = int(currRow[2])\n",
    "\n",
    "        isWomensMatch = team1 + team2 > 6000\n",
    "        if isWomensMatch:\n",
    "            flag = get_tourneyFlag(team1, team2, womensTeamSeeds2025_df)\n",
    "        else:\n",
    "            flag = get_tourneyFlag(team1, team2, mensTeamSeeds2025_df)\n",
    "\n",
    "        flag_list.append(flag)\n",
    "    return flag_list\n",
    "\n",
    "def set_optimalStrategy(submission_df, mensTeamSeeds2025_df, womensTeamSeeds2025_df, riskTeam, riskTeamToWinRound):\n",
    "\n",
    "    flag_list = get_flag_list(submission_df, mensTeamSeeds2025_df, womensTeamSeeds2025_df)\n",
    "\n",
    "    for i in range(submission_df.shape[0]):\n",
    "        submission_row = submission_df.iloc[i,0].split('_')\n",
    "        submission_round = flag_list[i]\n",
    "\n",
    "        team1 = int(submission_row[1])\n",
    "        team2 = int(submission_row[2])\n",
    "\n",
    "        isTeam1Win = (team1 == riskTeam) and (0 < submission_round) and (submission_round <= riskTeamToWinRound)\n",
    "        isTeam2Win = (team2 == riskTeam) and (0 < submission_round) and (submission_round <= riskTeamToWinRound)\n",
    "        if isTeam1Win:\n",
    "            submission_df.at[i, 'Pred'] = 1.0\n",
    "            print(submission_df.iloc[i])\n",
    "        elif isTeam2Win:\n",
    "            submission_df.at[i, 'Pred'] = 0.0\n",
    "            print(submission_df.iloc[i])\n",
    "    \n",
    "    return submission_df\n",
    "\n",
    "# Loop through all years from 2003 to 2025\n",
    "\n",
    "# Base path for data\n",
    "base_path = r\"C:\\Users\\henry-cao-local\\Desktop\\Self_Learning\\Kaggle\\March_Machine_Learning_Mania_2025\\data_fivethirtyeight\"\n",
    "\n",
    "# Loop through all years\n",
    "for year in range(2003, 2026):\n",
    "    print(f\"Processing year {year}...\")\n",
    "    \n",
    "    # Construct file paths for this year\n",
    "    submission_file = os.path.join(base_path, f\"submission.csv\")\n",
    "    \n",
    "    # Load submission file\n",
    "    submission_df = pd.read_csv(submission_file)\n",
    "\n",
    "    # Load seeds data for this year\n",
    "    try:\n",
    "        mensTeamSeedsThisYear_df = mensTeamSeeds_df.iloc[[x == year for x in mensTeamSeeds_df['Season']]]\n",
    "        womensTeamSeedsThisYear_df = womensTeamSeeds_df.iloc[[x == year for x in womensTeamSeeds_df['Season']]]\n",
    "        \n",
    "        # Set risk team and round parameters - could be different for each year if needed\n",
    "        riskTeam = 1179  # Drake\n",
    "        riskTeamToWinRound = 2  # Near Optimal Probability for Strategy\n",
    "        \n",
    "        # Apply optimal strategy\n",
    "        submission_df = set_optimalStrategy(submission_df, mensTeamSeedsThisYear_df, womensTeamSeedsThisYear_df, riskTeam, riskTeamToWinRound)\n",
    "        \n",
    "        # Save the results\n",
    "        output_file = os.path.join(base_path, f\"submission_optimized_{year}.csv\")\n",
    "        submission_df.to_csv(output_file, index=False)\n",
    "        print(f\"Saved optimized predictions for {year}\")\n",
    "        \n",
    "    except Exception as e:\n",
    "        print(f\"Error processing year {year}: {e}\")\n",
    "\n",
    "print(\"Processing complete for all years!\")"
   ]
  }
 ],
 "metadata": {
  "kaggle": {
   "accelerator": "none",
   "dataSources": [
    {
     "databundleVersionId": 11441828,
     "sourceId": 91497,
     "sourceType": "competition"
    },
    {
     "datasetId": 3680893,
     "sourceId": 11075721,
     "sourceType": "datasetVersion"
    }
   ],
   "isGpuEnabled": false,
   "isInternetEnabled": false,
   "language": "python",
   "sourceType": "notebook"
  },
  "kernelspec": {
   "display_name": "Python 3",
   "language": "python",
   "name": "python3"
  },
  "language_info": {
   "codemirror_mode": {
    "name": "ipython",
    "version": 3
   },
   "file_extension": ".py",
   "mimetype": "text/x-python",
   "name": "python",
   "nbconvert_exporter": "python",
   "pygments_lexer": "ipython3",
   "version": "3.12.6"
  },
  "papermill": {
   "default_parameters": {},
   "duration": 14.651218,
   "end_time": "2025-03-18T14:15:46.573054",
   "environment_variables": {},
   "exception": null,
   "input_path": "__notebook__.ipynb",
   "output_path": "__notebook__.ipynb",
   "parameters": {},
   "start_time": "2025-03-18T14:15:31.921836",
   "version": "2.4.0"
  }
 },
 "nbformat": 4,
 "nbformat_minor": 5
}
